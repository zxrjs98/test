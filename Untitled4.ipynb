{
  "nbformat": 4,
  "nbformat_minor": 0,
  "metadata": {
    "colab": {
      "provenance": [],
      "gpuType": "T4",
      "authorship_tag": "ABX9TyO8uMbXxR5Ck0+r0TO7yc6m",
      "include_colab_link": true
    },
    "kernelspec": {
      "name": "python3",
      "display_name": "Python 3"
    },
    "language_info": {
      "name": "python"
    },
    "accelerator": "GPU"
  },
  "cells": [
    {
      "cell_type": "markdown",
      "metadata": {
        "id": "view-in-github",
        "colab_type": "text"
      },
      "source": [
        "<a href=\"https://colab.research.google.com/github/zxrjs98/test/blob/geonho/Untitled4.ipynb\" target=\"_parent\"><img src=\"https://colab.research.google.com/assets/colab-badge.svg\" alt=\"Open In Colab\"/></a>"
      ]
    },
    {
      "cell_type": "code",
      "execution_count": null,
      "metadata": {
        "id": "0e031uLOytdK"
      },
      "outputs": [],
      "source": [
        "import csv\n",
        "import numpy as np\n",
        "import matplotlib.pyplot as plt\n",
        "\n",
        "from tensorflow import keras\n",
        "from tensorflow.keras import layers\n",
        "from sklearn.model_selection import train_test_split\n",
        "from sklearn.preprocessing import StandardScaler"
      ]
    },
    {
      "cell_type": "code",
      "source": [
        "# 데이터를 저장할 리스트 초기화\n",
        "features_list = []\n",
        "targets_list = []\n",
        "ocean_proximity_categories = set()  # set을 사용하여 중복 방지\n",
        "\n",
        "with open(\"/housing.csv\", \"rt\", encoding=\"utf-8\") as fin:\n",
        "    dataset = csv.DictReader(fin)\n",
        "\n",
        "    # target인 median_house_value와 one-hot encoding 시행할 ocean_proximity 제외한 데이터 저장\n",
        "    numeric_headers = [h for h in dataset.fieldnames if h not in ['median_house_value', 'ocean_proximity']]\n",
        "\n",
        "    for i, row in enumerate(dataset):\n",
        "        # 결측치 있는 행 건너뛰기\n",
        "        if any([v == \"\" for v in row.values()]):\n",
        "            continue\n",
        "\n",
        "        # target(median_house_value) 분리\n",
        "        targets_list.append(float(row.pop('median_house_value')))\n",
        "        # feature 저장\n",
        "        features_list.append(row)\n",
        "        # ocean_proximity의 카테고리 저장\n",
        "        ocean_proximity_categories.add(row['ocean_proximity'])\n",
        "\n",
        "# ocean_proximity열 카테고리의 순서 고정\n",
        "ocean_proximity_categories = sorted(list(ocean_proximity_categories))\n",
        "# 첫번째 카테고리 제거(나머지 카테고리가 모두 0이라면 첫번째 카테고리에 해당되므로 중복 정보)\n",
        "ocean_proximity_categories = ocean_proximity_categories[1:]\n",
        "\n",
        "features = [] # 최종 feature를 담을 list\n",
        "for row in features_list:\n",
        "# median_house_value, ocean_proximity 제외한 데이터 실수로 변환 후 저장\n",
        "    numeric_values = [float(row[h]) for h in numeric_headers]\n",
        "# one-hot encoding 실행 후 저장\n",
        "    one_hot_values = [1.0 if row['ocean_proximity'] == categories else 0.0 for categories in ocean_proximity_categories]\n",
        "# numeric_values와 one_hot_values 합쳐 features list 완성\n",
        "    features.append(numeric_values + one_hot_values)\n",
        "\n",
        "# NumPy 배열로 변환\n",
        "x = np.array(features)\n",
        "y = np.array(targets_list)"
      ],
      "metadata": {
        "id": "5oq0XVwjsYfZ"
      },
      "execution_count": null,
      "outputs": []
    },
    {
      "cell_type": "code",
      "source": [
        "# 훈련 세트와 테스트 세트로 분리\n",
        "x_train, x_test, y_train, y_test = train_test_split(\n",
        "    x, y, test_size=0.2, random_state=0)\n",
        "\n",
        "# 검증 세트 준비 (1000개 샘플)\n",
        "x_val = x_train[:1000]\n",
        "partial_x_train = x_train[1000:]\n",
        "y_val = y_train[:1000]\n",
        "partial_y_train = y_train[1000:]\n",
        "\n",
        "# 데이터 정규화\n",
        "mean = partial_x_train.mean(axis=0)\n",
        "partial_x_train -= mean\n",
        "std = partial_x_train.std(axis=0)\n",
        "partial_x_train /= std\n",
        "x_val -= mean\n",
        "x_val /= std\n",
        "x_test -= mean\n",
        "x_test /= std"
      ],
      "metadata": {
        "id": "c6dOyZJmtpFx"
      },
      "execution_count": null,
      "outputs": []
    },
    {
      "cell_type": "code",
      "source": [
        "# 모델 정의하기\n",
        "def build_model():\n",
        "    model = keras.Sequential([\n",
        "        layers.Dense(16, activation=\"relu\"),\n",
        "        layers.Dense(16, activation=\"relu\"),\n",
        "        layers.Dense(1)\n",
        "    ])\n",
        "    model.compile(optimizer=\"rmsprop\", loss=\"mse\", metrics=[\"mae\"])\n",
        "    return model"
      ],
      "metadata": {
        "id": "DhMQ_L6uQ4lR"
      },
      "execution_count": null,
      "outputs": []
    },
    {
      "cell_type": "code",
      "source": [
        "# 모델 생성 및 훈련\n",
        "model = build_model()\n",
        "history = model.fit(partial_x_train, partial_y_train,\n",
        "                    epochs=500,\n",
        "                    batch_size=256,\n",
        "                    validation_data=(x_val, y_val),\n",
        "                    verbose=0)\n",
        "mae_history = history.history\n",
        "val_mae_values = mae_history[\"val_mae\"]"
      ],
      "metadata": {
        "id": "VBUmOzZqQ6C5"
      },
      "execution_count": null,
      "outputs": []
    },
    {
      "cell_type": "code",
      "source": [
        "# 에포크별 검증 MAE 그리기\n",
        "# 스케일 차이가 큰 처음 30개 데이터 포인트를 제외\n",
        "truncated_mae_history = val_mae_values[30:]\n",
        "plt.plot(range(1, len(truncated_mae_history) + 1), truncated_mae_history)\n",
        "plt.xlabel(\"Epochs\")\n",
        "plt.ylabel(\"Validation MAE\")\n",
        "plt.show()"
      ],
      "metadata": {
        "colab": {
          "base_uri": "https://localhost:8080/",
          "height": 449
        },
        "id": "rDxpAAh5Q7qB",
        "outputId": "7cc20146-c0f7-4775-e9c5-1b3bf056c355"
      },
      "execution_count": null,
      "outputs": [
        {
          "output_type": "display_data",
          "data": {
            "text/plain": [
              "<Figure size 640x480 with 1 Axes>"
            ],
            "image/png": "[encoded data removed]"
          },
          "metadata": {}
        }
      ]
    },
    {
      "cell_type": "markdown",
      "source": [
        "300 Epochs 정도 이후부터는 어느정도 성능이 수렴함.\n",
        "따라서 300 Epochs 사용"
      ],
      "metadata": {
        "id": "uukrNLd5QLXP"
      }
    },
    {
      "cell_type": "code",
      "source": [
        "# 새롭게 모델을 생성\n",
        "model = build_model()\n",
        "\n",
        "# 전체 훈련 데이터로 300 에포크만큼 훈련\n",
        "model.fit(x_train, y_train,\n",
        "                epochs=300,\n",
        "                batch_size=256,\n",
        "                verbose=0)\n",
        "\n",
        "# 테스트 세트로 최종 성능을 평가\n",
        "test_mse_score, test_mae_score = model.evaluate(x_test, y_test)\n",
        "\n",
        "print(f\"\\n최종 테스트 MAE: ${test_mae_score:,.2f}\")"
      ],
      "metadata": {
        "colab": {
          "base_uri": "https://localhost:8080/"
        },
        "id": "PuMj4h5wQ8wm",
        "outputId": "3bd56dee-bcbb-40cf-bc41-efb724b3bdee"
      },
      "execution_count": null,
      "outputs": [
        {
          "output_type": "stream",
          "name": "stdout",
          "text": [
            "\u001b[1m128/128\u001b[0m \u001b[32m━━━━━━━━━━━━━━━━━━━━\u001b[0m\u001b[37m\u001b[0m \u001b[1m1s\u001b[0m 3ms/step - loss: 4588940800.0000 - mae: 48722.6445\n",
            "\n",
            "최종 테스트 MAE: $48,810.88\n"
          ]
        }
      ]
    },
    {
      "cell_type": "markdown",
      "source": [
        "1. 히든레이어 수, 히든레이어 유닛 수 변경"
      ],
      "metadata": {
        "id": "ZRJGmxaERnwt"
      }
    },
    {
      "cell_type": "markdown",
      "source": [
        "1-1. 히든레이어 수 증가"
      ],
      "metadata": {
        "id": "UFm5Us7SiDnN"
      }
    },
    {
      "cell_type": "markdown",
      "source": [
        "현재 모델에서 과대적합이 일어나지 않으므로 히든레이어 수 증가시 성능이 향상할 것이라 기대"
      ],
      "metadata": {
        "id": "fEqzEj2whI50"
      }
    },
    {
      "cell_type": "code",
      "source": [
        "# 모델 정의하기\n",
        "def build_model():\n",
        "    model = keras.Sequential([\n",
        "        layers.Dense(16, activation=\"relu\"),\n",
        "        layers.Dense(16, activation=\"relu\"),\n",
        "        layers.Dense(16, activation=\"relu\"),\n",
        "        layers.Dense(1)\n",
        "    ])\n",
        "    model.compile(optimizer=\"rmsprop\", loss=\"mse\", metrics=[\"mae\"])\n",
        "    return model"
      ],
      "metadata": {
        "id": "u9538wS0RiXD"
      },
      "execution_count": null,
      "outputs": []
    },
    {
      "cell_type": "code",
      "source": [
        "# 새롭게 모델을 생성\n",
        "model = build_model()\n",
        "\n",
        "# 전체 훈련 데이터로 300 에포크만큼 훈련\n",
        "model.fit(x_train, y_train,\n",
        "                epochs=300,\n",
        "                batch_size=256,\n",
        "                verbose=0)\n",
        "\n",
        "# 테스트 세트로 최종 성능을 평가\n",
        "test_mse_score, test_mae_score = model.evaluate(x_test, y_test)\n",
        "\n",
        "print(f\"\\n최종 테스트 MAE: ${test_mae_score:,.2f}\")"
      ],
      "metadata": {
        "colab": {
          "base_uri": "https://localhost:8080/"
        },
        "id": "0qaak4MoR-F7",
        "outputId": "c4e29594-ab6e-45ee-b694-18c8018d1827"
      },
      "execution_count": null,
      "outputs": [
        {
          "output_type": "stream",
          "name": "stdout",
          "text": [
            "\u001b[1m128/128\u001b[0m \u001b[32m━━━━━━━━━━━━━━━━━━━━\u001b[0m\u001b[37m\u001b[0m \u001b[1m1s\u001b[0m 5ms/step - loss: 4225862912.0000 - mae: 46531.3516\n",
            "\n",
            "최종 테스트 MAE: $46,604.31\n"
          ]
        }
      ]
    },
    {
      "cell_type": "markdown",
      "source": [
        "48,810.88 -> 46,604.31 : 약간의 성능 향상"
      ],
      "metadata": {
        "id": "mI0S6ylsUBs0"
      }
    },
    {
      "cell_type": "markdown",
      "source": [
        "1-2. 히든레이어 유닛 수 변경하여 성능 테스트"
      ],
      "metadata": {
        "id": "vddH5NkVSUPQ"
      }
    },
    {
      "cell_type": "markdown",
      "source": [
        "현재 모델에서 과대적합이 일어나지 않으므로 히든레이어 유닛 수 증가시 성능이 향상할 것이라 기대"
      ],
      "metadata": {
        "id": "Ikw8uK8ihRwx"
      }
    },
    {
      "cell_type": "code",
      "source": [
        "# 모델 정의하기\n",
        "def build_model():\n",
        "    model = keras.Sequential([\n",
        "        layers.Dense(64, activation=\"relu\"),\n",
        "        layers.Dense(64, activation=\"relu\"),\n",
        "        layers.Dense(1)\n",
        "    ])\n",
        "    model.compile(optimizer=\"rmsprop\", loss=\"mse\", metrics=[\"mae\"])\n",
        "    return model"
      ],
      "metadata": {
        "id": "aB5yCekCSbKB"
      },
      "execution_count": null,
      "outputs": []
    },
    {
      "cell_type": "code",
      "source": [
        "# 새롭게 모델을 생성\n",
        "model = build_model()\n",
        "\n",
        "model.fit(x_train, y_train,\n",
        "                epochs=300,\n",
        "                batch_size=256,\n",
        "                verbose=0)\n",
        "\n",
        "# 테스트 세트로 최종 성능을 평가\n",
        "test_mse_score, test_mae_score = model.evaluate(x_test, y_test)\n",
        "\n",
        "print(f\"\\n최종 테스트 MAE: ${test_mae_score:,.2f}\")"
      ],
      "metadata": {
        "colab": {
          "base_uri": "https://localhost:8080/"
        },
        "id": "eBDzUparSdu6",
        "outputId": "3840de61-7210-45ed-82ee-8a9c57ed7966"
      },
      "execution_count": null,
      "outputs": [
        {
          "output_type": "stream",
          "name": "stdout",
          "text": [
            "\u001b[1m128/128\u001b[0m \u001b[32m━━━━━━━━━━━━━━━━━━━━\u001b[0m\u001b[37m\u001b[0m \u001b[1m1s\u001b[0m 4ms/step - loss: 4302065664.0000 - mae: 46927.9453\n",
            "\n",
            "최종 테스트 MAE: $46,949.95\n"
          ]
        }
      ]
    },
    {
      "cell_type": "markdown",
      "source": [
        "48,810.88−> 46,949.95 : 약간의 성능 향상"
      ],
      "metadata": {
        "id": "-lMbn4bmUZZQ"
      }
    },
    {
      "cell_type": "markdown",
      "source": [
        "1-3. 히든레이어 수 증가 + 히든레이어 유닛 수 증가"
      ],
      "metadata": {
        "id": "ymCT1gz0S04a"
      }
    },
    {
      "cell_type": "markdown",
      "source": [
        "현재 모델에서 과대적합이 일어나지 않으므로 히든레이어 수, 히든레이어 유닛 수 증가시 성능이 향상할 것이라 기대"
      ],
      "metadata": {
        "id": "dwxSVQ3WiP7R"
      }
    },
    {
      "cell_type": "code",
      "source": [
        "# 모델 정의하기\n",
        "def build_model():\n",
        "    model = keras.Sequential([\n",
        "        layers.Dense(64, activation=\"relu\"),\n",
        "        layers.Dense(64, activation=\"relu\"),\n",
        "        layers.Dense(64, activation=\"relu\"),\n",
        "        layers.Dense(1)\n",
        "    ])\n",
        "    model.compile(optimizer=\"rmsprop\", loss=\"mse\", metrics=[\"mae\"])\n",
        "    return model"
      ],
      "metadata": {
        "id": "elUodwB3S0H-"
      },
      "execution_count": null,
      "outputs": []
    },
    {
      "cell_type": "code",
      "source": [
        "# 새롭게 모델을 생성\n",
        "model = build_model()\n",
        "\n",
        "model.fit(x_train, y_train,\n",
        "                epochs=300,\n",
        "                batch_size=256,\n",
        "                verbose=0)\n",
        "\n",
        "# 테스트 세트로 최종 성능을 평가\n",
        "test_mse_score, test_mae_score = model.evaluate(x_test, y_test)\n",
        "\n",
        "print(f\"\\n최종 테스트 MAE: ${test_mae_score:,.2f}\")"
      ],
      "metadata": {
        "colab": {
          "base_uri": "https://localhost:8080/"
        },
        "id": "gJ7IKHOFS1g4",
        "outputId": "cd4c362e-3c44-4fb9-a83a-fe95377d38ab"
      },
      "execution_count": null,
      "outputs": [
        {
          "metadata": {
            "tags": null
          },
          "name": "stdout",
          "output_type": "stream",
          "text": [
            "\u001b[1m128/128\u001b[0m \u001b[32m━━━━━━━━━━━━━━━━━━━━\u001b[0m\u001b[37m\u001b[0m \u001b[1m1s\u001b[0m 3ms/step - loss: 3814246144.0000 - mae: 43053.1875\n",
            "\n",
            "최종 테스트 MAE: $43,209.02\n"
          ]
        }
      ]
    },
    {
      "cell_type": "markdown",
      "source": [
        "48,810.88−> 43,209.02"
      ],
      "metadata": {
        "id": "LqAx4VZzUiM5"
      }
    },
    {
      "cell_type": "markdown",
      "source": [
        "히든레이어 수, 히든레이어 유닛 수를 각각 증가했을 때보다\n",
        "더 많은 성능 향상"
      ],
      "metadata": {
        "id": "tX_QwgsmUoej"
      }
    },
    {
      "cell_type": "markdown",
      "source": [
        "2. 옵티마이저 변경"
      ],
      "metadata": {
        "id": "W4k8m7FGVCL6"
      }
    },
    {
      "cell_type": "markdown",
      "source": [
        "2-1. adam"
      ],
      "metadata": {
        "id": "dgA1-9qcWnfm"
      }
    },
    {
      "cell_type": "code",
      "source": [
        "#히든레이어 수 증가 + 히든레이어 유닛 수 증가 버전 사용\n",
        "def build_model():\n",
        "    model = keras.Sequential([\n",
        "        layers.Dense(64, activation=\"relu\"),\n",
        "        layers.Dense(64, activation=\"relu\"),\n",
        "        layers.Dense(64, activation=\"relu\"),\n",
        "        layers.Dense(1)\n",
        "    ])\n",
        "    model.compile(optimizer=\"adam\", loss=\"mse\", metrics=[\"mae\"]) # adam 옵티마이저 사용\n",
        "    return model"
      ],
      "metadata": {
        "id": "JHNQYz9VU-3c"
      },
      "execution_count": null,
      "outputs": []
    },
    {
      "cell_type": "code",
      "source": [
        "# 새롭게 모델을 생성\n",
        "model = build_model()\n",
        "\n",
        "model.fit(x_train, y_train,\n",
        "                epochs=300,\n",
        "                batch_size=256,\n",
        "                verbose=0)\n",
        "\n",
        "# 테스트 세트로 최종 성능을 평가\n",
        "test_mse_score, test_mae_score = model.evaluate(x_test, y_test)\n",
        "\n",
        "print(f\"\\n최종 테스트 MAE: ${test_mae_score:,.2f}\")"
      ],
      "metadata": {
        "colab": {
          "base_uri": "https://localhost:8080/"
        },
        "id": "4fGdX5UMVX5l",
        "outputId": "5837bdb4-21ca-46af-dc67-4ac827a8fdd4"
      },
      "execution_count": null,
      "outputs": [
        {
          "output_type": "stream",
          "name": "stdout",
          "text": [
            "\u001b[1m128/128\u001b[0m \u001b[32m━━━━━━━━━━━━━━━━━━━━\u001b[0m\u001b[37m\u001b[0m \u001b[1m1s\u001b[0m 3ms/step - loss: 3967843840.0000 - mae: 44218.8789\n",
            "\n",
            "최종 테스트 MAE: $44,374.27\n"
          ]
        }
      ]
    },
    {
      "cell_type": "markdown",
      "source": [
        "43,209.02 -> 44,374.27 : 약간의 성능 하락"
      ],
      "metadata": {
        "id": "4IetB-r2WtqA"
      }
    },
    {
      "cell_type": "markdown",
      "source": [
        "2-2. Nadam"
      ],
      "metadata": {
        "id": "bxO_EqOrWtww"
      }
    },
    {
      "cell_type": "code",
      "source": [
        "#히든레이어 수 증가 + 히든레이어 유닛 수 증가 버전 사용\n",
        "def build_model():\n",
        "    model = keras.Sequential([\n",
        "        layers.Dense(64, activation=\"relu\"),\n",
        "        layers.Dense(64, activation=\"relu\"),\n",
        "        layers.Dense(64, activation=\"relu\"),\n",
        "        layers.Dense(1)\n",
        "    ])\n",
        "    model.compile(optimizer=\"nadam\", loss=\"mse\", metrics=[\"mae\"]) # nadam 옵티마이저 사용\n",
        "    return model"
      ],
      "metadata": {
        "id": "4UsO5ZFkW7p1"
      },
      "execution_count": null,
      "outputs": []
    },
    {
      "cell_type": "code",
      "source": [
        "# 새롭게 모델을 생성\n",
        "model = build_model()\n",
        "\n",
        "model.fit(x_train, y_train,\n",
        "                epochs=300,\n",
        "                batch_size=256,\n",
        "                verbose=0)\n",
        "\n",
        "# 테스트 세트로 최종 성능을 평가\n",
        "test_mse_score, test_mae_score = model.evaluate(x_test, y_test)\n",
        "\n",
        "print(f\"\\n최종 테스트 MAE: ${test_mae_score:,.2f}\")"
      ],
      "metadata": {
        "colab": {
          "base_uri": "https://localhost:8080/"
        },
        "id": "j6fSjC3gW9C3",
        "outputId": "66af4cb6-a75a-458d-cb05-b84679d57c5c"
      },
      "execution_count": null,
      "outputs": [
        {
          "output_type": "stream",
          "name": "stdout",
          "text": [
            "\u001b[1m128/128\u001b[0m \u001b[32m━━━━━━━━━━━━━━━━━━━━\u001b[0m\u001b[37m\u001b[0m \u001b[1m1s\u001b[0m 4ms/step - loss: 3981896704.0000 - mae: 44393.5898\n",
            "\n",
            "최종 테스트 MAE: $44,545.21\n"
          ]
        }
      ]
    },
    {
      "cell_type": "markdown",
      "source": [
        "43,209.02 -> 44,545.21 : 약간의 성능 하락"
      ],
      "metadata": {
        "id": "p-8uzQKNXtvI"
      }
    },
    {
      "cell_type": "markdown",
      "source": [
        "rmsprop 사용"
      ],
      "metadata": {
        "id": "uqhMmGQCXxgr"
      }
    },
    {
      "cell_type": "markdown",
      "source": [
        "3. 스케줄러"
      ],
      "metadata": {
        "id": "Ay700KmCYxza"
      }
    },
    {
      "cell_type": "markdown",
      "source": [
        "훈련 과정에서 학습률을 계획에 따라 동적으로 조절"
      ],
      "metadata": {
        "id": "GzHFEgb9gQMw"
      }
    },
    {
      "cell_type": "markdown",
      "source": [
        "대부분의 경우 rmsprop같은 옵티마이저를 사용하는게 성능이 좋을것이라 예측"
      ],
      "metadata": {
        "id": "032lrGaBgki9"
      }
    },
    {
      "cell_type": "markdown",
      "source": [
        "3-1"
      ],
      "metadata": {
        "id": "IR2ucM0GcGOj"
      }
    },
    {
      "cell_type": "code",
      "source": [
        "from tensorflow.keras.optimizers import RMSprop\n",
        "from tensorflow.keras.optimizers.schedules import ExponentialDecay\n",
        "\n",
        "def build_model():\n",
        "    model = keras.Sequential([\n",
        "        layers.Dense(64, activation=\"relu\"),\n",
        "        layers.Dense(64, activation=\"relu\"),\n",
        "        layers.Dense(64, activation=\"relu\"),\n",
        "        layers.Dense(1)\n",
        "    ])\n",
        "    # 초기 학습률 0.001에서 시작하여, 2000 스텝마다 0.95배씩 학습률을 감소\n",
        "    lr_schedule = ExponentialDecay(\n",
        "        initial_learning_rate=0.001,\n",
        "        decay_steps=2000,\n",
        "        decay_rate=0.95)\n",
        "    #스케줄러를 적용한 옵티마이저 생성\n",
        "    optimizer_with_schedule = RMSprop(learning_rate=lr_schedule)\n",
        "\n",
        "    model.compile(optimizer=optimizer_with_schedule, loss=\"mse\", metrics=[\"mae\"])\n",
        "    return model"
      ],
      "metadata": {
        "id": "TwISg6wDY3fY"
      },
      "execution_count": null,
      "outputs": []
    },
    {
      "cell_type": "code",
      "source": [
        "# 새롭게 모델을 생성\n",
        "model = build_model()\n",
        "\n",
        "model.fit(x_train, y_train,\n",
        "                epochs=300,\n",
        "                batch_size=256,\n",
        "                verbose=0)\n",
        "\n",
        "# 테스트 세트로 최종 성능을 평가\n",
        "test_mse_score, test_mae_score = model.evaluate(x_test, y_test)\n",
        "\n",
        "print(f\"\\n최종 테스트 MAE: ${test_mae_score:,.2f}\")"
      ],
      "metadata": {
        "colab": {
          "base_uri": "https://localhost:8080/"
        },
        "id": "Q4XSlsVqZm7n",
        "outputId": "e4f840ec-f07a-4ff8-e3df-309004a3f1e5"
      },
      "execution_count": null,
      "outputs": [
        {
          "metadata": {
            "tags": null
          },
          "name": "stdout",
          "output_type": "stream",
          "text": [
            "\u001b[1m128/128\u001b[0m \u001b[32m━━━━━━━━━━━━━━━━━━━━\u001b[0m\u001b[37m\u001b[0m \u001b[1m1s\u001b[0m 3ms/step - loss: 4099559168.0000 - mae: 45241.2969\n",
            "\n",
            "최종 테스트 MAE: $45,267.46\n"
          ]
        }
      ]
    },
    {
      "cell_type": "markdown",
      "source": [
        "43,209.02 -> 45,267.46 : 약간의 성능 하락"
      ],
      "metadata": {
        "id": "GwAvxV1rcJwp"
      }
    },
    {
      "cell_type": "markdown",
      "source": [
        "3-2. decay_steps 2000 -> 4000"
      ],
      "metadata": {
        "id": "X2lfxK_fcJ9b"
      }
    },
    {
      "cell_type": "code",
      "source": [
        "def build_model():\n",
        "    model = keras.Sequential([\n",
        "        layers.Dense(64, activation=\"relu\"),\n",
        "        layers.Dense(64, activation=\"relu\"),\n",
        "        layers.Dense(64, activation=\"relu\"),\n",
        "        layers.Dense(1)\n",
        "    ])\n",
        "    # 초기 학습률 0.001에서 시작하여, 2000 스텝마다 0.95배씩 학습률을 감소\n",
        "    lr_schedule = ExponentialDecay(\n",
        "        initial_learning_rate=0.001,\n",
        "        decay_steps=4000,\n",
        "        decay_rate=0.95)\n",
        "    #스케줄러를 적용한 옵티마이저 생성\n",
        "    optimizer_with_schedule = RMSprop(learning_rate=lr_schedule)\n",
        "\n",
        "    model.compile(optimizer=optimizer_with_schedule, loss=\"mse\", metrics=[\"mae\"])\n",
        "    return model"
      ],
      "metadata": {
        "id": "Sv6Qdw6zcbM9"
      },
      "execution_count": null,
      "outputs": []
    },
    {
      "cell_type": "code",
      "source": [
        "# 새롭게 모델을 생성\n",
        "model = build_model()\n",
        "\n",
        "model.fit(x_train, y_train,\n",
        "                epochs=300,\n",
        "                batch_size=256,\n",
        "                verbose=0)\n",
        "\n",
        "# 테스트 세트로 최종 성능을 평가\n",
        "test_mse_score, test_mae_score = model.evaluate(x_test, y_test)\n",
        "\n",
        "print(f\"\\n최종 테스트 MAE: ${test_mae_score:,.2f}\")"
      ],
      "metadata": {
        "colab": {
          "base_uri": "https://localhost:8080/"
        },
        "id": "hfQZ-ud0cdoK",
        "outputId": "084fa18d-9a3c-4550-d92b-1602b8d1194a"
      },
      "execution_count": null,
      "outputs": [
        {
          "output_type": "stream",
          "name": "stdout",
          "text": [
            "\u001b[1m128/128\u001b[0m \u001b[32m━━━━━━━━━━━━━━━━━━━━\u001b[0m\u001b[37m\u001b[0m \u001b[1m1s\u001b[0m 3ms/step - loss: 4032618240.0000 - mae: 44695.5469\n",
            "\n",
            "최종 테스트 MAE: $44,782.71\n"
          ]
        }
      ]
    },
    {
      "cell_type": "markdown",
      "source": [
        "43,209.02 -> 44,781.71 : decay_steps=2000 보단 성능이 오르지만 rmsprop 사용 때 보다는 성능 하락"
      ],
      "metadata": {
        "id": "uv2nbveUc5aC"
      }
    },
    {
      "cell_type": "markdown",
      "source": [
        "스케줄러 사용하지 않음"
      ],
      "metadata": {
        "id": "jcRKjwGwdElV"
      }
    },
    {
      "cell_type": "markdown",
      "source": [
        "4. Dropout"
      ],
      "metadata": {
        "id": "oJYpbjUHb7QD"
      }
    },
    {
      "cell_type": "markdown",
      "source": [
        "훈련 과정에서 각 단계마다 신경망의 뉴런 중 일부를 무작위로 비활성화시켜, 모델이 특정 뉴런에만 너무 의존하지 않고 더 일반화된 패턴을 학습하도록 하여 과대적합을 방지하는 방법"
      ],
      "metadata": {
        "id": "64mkFFpBfqQx"
      }
    },
    {
      "cell_type": "markdown",
      "source": [
        "현재 모델이 애초에 과대적합이 일어나지 않는 상태이기 때문에 성능이 오히려 떨어질 것이라 예측"
      ],
      "metadata": {
        "id": "LQFj14jYe_yC"
      }
    },
    {
      "cell_type": "code",
      "source": [
        "def build_model():\n",
        "    model = keras.Sequential([\n",
        "        layers.Dense(64, activation=\"relu\"),\n",
        "        layers.Dropout(0.2),  # Dropout 추가: 이전 층의 뉴런 중 20%를 끔으로써 과대적합 방지\n",
        "        layers.Dense(64, activation=\"relu\"),\n",
        "        layers.Dropout(0.2),  # Dropout 추가: 이전 층의 뉴런 중 20%를 끔으로써 과대적합 방지\n",
        "        layers.Dense(1)\n",
        "    ])\n",
        "    model.compile(optimizer=\"rmsprop\", loss=\"mse\", metrics=[\"mae\"])\n",
        "    return model"
      ],
      "metadata": {
        "id": "2YJtxQ8tb6ht"
      },
      "execution_count": null,
      "outputs": []
    },
    {
      "cell_type": "code",
      "source": [
        "# 새롭게 모델을 생성\n",
        "model = build_model()\n",
        "\n",
        "model.fit(x_train, y_train,\n",
        "                epochs=300,\n",
        "                batch_size=256,\n",
        "                verbose=0)\n",
        "\n",
        "# 테스트 세트로 최종 성능을 평가\n",
        "test_mse_score, test_mae_score = model.evaluate(x_test, y_test)\n",
        "\n",
        "print(f\"\\n최종 테스트 MAE: ${test_mae_score:,.2f}\")"
      ],
      "metadata": {
        "colab": {
          "base_uri": "https://localhost:8080/"
        },
        "id": "Doj4hxk3eac2",
        "outputId": "96c41744-7fb7-4cf0-ee7b-b9146be846c1"
      },
      "execution_count": null,
      "outputs": [
        {
          "output_type": "stream",
          "name": "stdout",
          "text": [
            "\u001b[1m128/128\u001b[0m \u001b[32m━━━━━━━━━━━━━━━━━━━━\u001b[0m\u001b[37m\u001b[0m \u001b[1m1s\u001b[0m 3ms/step - loss: 4341755392.0000 - mae: 47049.1562\n",
            "\n",
            "최종 테스트 MAE: $47,130.95\n"
          ]
        }
      ]
    },
    {
      "cell_type": "markdown",
      "source": [
        "43,209.02 -> 47,130.95 : 성능 하락"
      ],
      "metadata": {
        "id": "DNfIxHwZe5qY"
      }
    },
    {
      "cell_type": "markdown",
      "source": [
        "최종적인 성능 향상 48,810.88−> 43,209.02"
      ],
      "metadata": {
        "id": "xtWq5_WkhXpd"
      }
    },
    {
      "cell_type": "code",
      "source": [
        "print(\"helloo\")"
      ],
      "metadata": {
        "colab": {
          "base_uri": "https://localhost:8080/"
        },
        "id": "3hajmuPGjFJ0",
        "outputId": "4658310f-3448-46cd-da08-9de59f1aabc8"
      },
      "execution_count": null,
      "outputs": [
        {
          "output_type": "stream",
          "name": "stdout",
          "text": [
            "hello\n"
          ]
        }
      ]
    }
  ]
}